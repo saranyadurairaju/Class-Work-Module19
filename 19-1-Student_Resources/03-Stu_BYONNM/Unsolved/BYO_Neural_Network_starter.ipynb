{
 "cells": [
  {
   "cell_type": "code",
   "execution_count": 1,
   "metadata": {},
   "outputs": [
    {
     "name": "stdout",
     "output_type": "stream",
     "text": [
      "Using matplotlib backend: Qt5Agg\n"
     ]
    }
   ],
   "source": [
    "%matplotlib\n",
    "# Import our dependencies\n",
    "import pandas as pd\n",
    "import matplotlib as plt\n",
    "from sklearn.datasets import make_blobs\n",
    "import sklearn as skl\n",
    "import tensorflow as tf"
   ]
  },
  {
   "cell_type": "code",
   "execution_count": 2,
   "metadata": {},
   "outputs": [
    {
     "data": {
      "text/plain": [
       "<AxesSubplot:xlabel='Feature 1', ylabel='Feature 2'>"
      ]
     },
     "execution_count": 2,
     "metadata": {},
     "output_type": "execute_result"
    }
   ],
   "source": [
    "# Generate dummy dataset\n",
    "X, y = make_blobs(n_samples=5000, centers=2, n_features=2, random_state=42, cluster_std=3)\n",
    "\n",
    "# Creating a DataFrame with the dummy data\n",
    "df = pd.DataFrame(X, columns=[\"Feature 1\", \"Feature 2\"])\n",
    "df[\"Target\"] = y\n",
    "\n",
    "# Plotting the dummy data\n",
    "df.plot.scatter(x=\"Feature 1\", y=\"Feature 2\", c=\"Target\", colormap=\"winter\")"
   ]
  },
  {
   "cell_type": "code",
   "execution_count": 3,
   "metadata": {},
   "outputs": [],
   "source": [
    "# Use sklearn to split dataset\n",
    "from sklearn.model_selection import train_test_split\n",
    "X_train, X_test, y_train, y_test = train_test_split(X, y, random_state=78)"
   ]
  },
  {
   "cell_type": "code",
   "execution_count": 4,
   "metadata": {},
   "outputs": [],
   "source": [
    "# Create scaler instance\n",
    "X_scaler = skl.preprocessing.StandardScaler()\n",
    "\n",
    "# Fit the scaler\n",
    "X_scaler.fit(X_train)\n",
    "\n",
    "# Scale the data\n",
    "X_train_scaled = X_scaler.transform(X_train)\n",
    "X_test_scaled = X_scaler.transform(X_test)"
   ]
  },
  {
   "cell_type": "code",
   "execution_count": 5,
   "metadata": {},
   "outputs": [],
   "source": [
    "# Create the Keras Sequential model\n",
    "nn_model = tf.keras.models.Sequential()"
   ]
  },
  {
   "cell_type": "code",
   "execution_count": 6,
   "metadata": {},
   "outputs": [],
   "source": [
    "# Add our first Dense layer, including the input layer\n",
    "nn_model.add(tf.keras.layers.Dense(units=5, activation=\"relu\", input_dim=2))"
   ]
  },
  {
   "cell_type": "code",
   "execution_count": 7,
   "metadata": {},
   "outputs": [],
   "source": [
    "# Add the output layer that uses a probability activation function\n",
    "nn_model.add(tf.keras.layers.Dense(units=1, activation=\"sigmoid\"))"
   ]
  },
  {
   "cell_type": "code",
   "execution_count": 8,
   "metadata": {},
   "outputs": [
    {
     "name": "stdout",
     "output_type": "stream",
     "text": [
      "Model: \"sequential\"\n",
      "_________________________________________________________________\n",
      "Layer (type)                 Output Shape              Param #   \n",
      "=================================================================\n",
      "dense (Dense)                (None, 5)                 15        \n",
      "_________________________________________________________________\n",
      "dense_1 (Dense)              (None, 1)                 6         \n",
      "=================================================================\n",
      "Total params: 21\n",
      "Trainable params: 21\n",
      "Non-trainable params: 0\n",
      "_________________________________________________________________\n"
     ]
    }
   ],
   "source": [
    "# Check the structure of the Sequential model\n",
    "nn_model.summary()"
   ]
  },
  {
   "cell_type": "code",
   "execution_count": 9,
   "metadata": {},
   "outputs": [],
   "source": [
    "# Compile the Sequential model together and customize metrics\n",
    "nn_model.compile(loss=\"binary_crossentropy\", optimizer=\"adam\", metrics=[\"accuracy\"])"
   ]
  },
  {
   "cell_type": "code",
   "execution_count": 10,
   "metadata": {},
   "outputs": [
    {
     "name": "stdout",
     "output_type": "stream",
     "text": [
      "Epoch 1/50\n",
      "118/118 [==============================] - 0s 818us/step - loss: 0.3917 - accuracy: 0.9219\n",
      "Epoch 2/50\n",
      "118/118 [==============================] - 0s 741us/step - loss: 0.2947 - accuracy: 0.9443\n",
      "Epoch 3/50\n",
      "118/118 [==============================] - 0s 777us/step - loss: 0.2329 - accuracy: 0.9493\n",
      "Epoch 4/50\n",
      "118/118 [==============================] - 0s 781us/step - loss: 0.1934 - accuracy: 0.9507\n",
      "Epoch 5/50\n",
      "118/118 [==============================] - 0s 769us/step - loss: 0.1686 - accuracy: 0.9507\n",
      "Epoch 6/50\n",
      "118/118 [==============================] - 0s 824us/step - loss: 0.1530 - accuracy: 0.9507\n",
      "Epoch 7/50\n",
      "118/118 [==============================] - 0s 776us/step - loss: 0.1430 - accuracy: 0.9515\n",
      "Epoch 8/50\n",
      "118/118 [==============================] - 0s 787us/step - loss: 0.1369 - accuracy: 0.9515\n",
      "Epoch 9/50\n",
      "118/118 [==============================] - 0s 768us/step - loss: 0.1327 - accuracy: 0.9504\n",
      "Epoch 10/50\n",
      "118/118 [==============================] - 0s 750us/step - loss: 0.1298 - accuracy: 0.9504\n",
      "Epoch 11/50\n",
      "118/118 [==============================] - 0s 790us/step - loss: 0.1279 - accuracy: 0.9504\n",
      "Epoch 12/50\n",
      "118/118 [==============================] - 0s 788us/step - loss: 0.1266 - accuracy: 0.9496\n",
      "Epoch 13/50\n",
      "118/118 [==============================] - 0s 776us/step - loss: 0.1257 - accuracy: 0.9499\n",
      "Epoch 14/50\n",
      "118/118 [==============================] - 0s 786us/step - loss: 0.1251 - accuracy: 0.9499\n",
      "Epoch 15/50\n",
      "118/118 [==============================] - 0s 745us/step - loss: 0.1247 - accuracy: 0.9499\n",
      "Epoch 16/50\n",
      "118/118 [==============================] - 0s 781us/step - loss: 0.1244 - accuracy: 0.9499\n",
      "Epoch 17/50\n",
      "118/118 [==============================] - 0s 824us/step - loss: 0.1242 - accuracy: 0.9504\n",
      "Epoch 18/50\n",
      "118/118 [==============================] - 0s 744us/step - loss: 0.1241 - accuracy: 0.9507\n",
      "Epoch 19/50\n",
      "118/118 [==============================] - 0s 769us/step - loss: 0.1239 - accuracy: 0.9496\n",
      "Epoch 20/50\n",
      "118/118 [==============================] - 0s 782us/step - loss: 0.1238 - accuracy: 0.9501\n",
      "Epoch 21/50\n",
      "118/118 [==============================] - 0s 753us/step - loss: 0.1238 - accuracy: 0.9501\n",
      "Epoch 22/50\n",
      "118/118 [==============================] - 0s 792us/step - loss: 0.1237 - accuracy: 0.9507\n",
      "Epoch 23/50\n",
      "118/118 [==============================] - 0s 761us/step - loss: 0.1236 - accuracy: 0.9504\n",
      "Epoch 24/50\n",
      "118/118 [==============================] - 0s 781us/step - loss: 0.1236 - accuracy: 0.9499\n",
      "Epoch 25/50\n",
      "118/118 [==============================] - 0s 773us/step - loss: 0.1236 - accuracy: 0.9504\n",
      "Epoch 26/50\n",
      "118/118 [==============================] - 0s 771us/step - loss: 0.1235 - accuracy: 0.9507\n",
      "Epoch 27/50\n",
      "118/118 [==============================] - 0s 811us/step - loss: 0.1235 - accuracy: 0.9507\n",
      "Epoch 28/50\n",
      "118/118 [==============================] - 0s 766us/step - loss: 0.1235 - accuracy: 0.9504\n",
      "Epoch 29/50\n",
      "118/118 [==============================] - 0s 766us/step - loss: 0.1234 - accuracy: 0.9504\n",
      "Epoch 30/50\n",
      "118/118 [==============================] - 0s 779us/step - loss: 0.1235 - accuracy: 0.9501\n",
      "Epoch 31/50\n",
      "118/118 [==============================] - 0s 891us/step - loss: 0.1234 - accuracy: 0.9499\n",
      "Epoch 32/50\n",
      "118/118 [==============================] - 0s 797us/step - loss: 0.1234 - accuracy: 0.9504\n",
      "Epoch 33/50\n",
      "118/118 [==============================] - 0s 1ms/step - loss: 0.1234 - accuracy: 0.9512\n",
      "Epoch 34/50\n",
      "118/118 [==============================] - 0s 761us/step - loss: 0.1234 - accuracy: 0.9517\n",
      "Epoch 35/50\n",
      "118/118 [==============================] - 0s 744us/step - loss: 0.1234 - accuracy: 0.9509\n",
      "Epoch 36/50\n",
      "118/118 [==============================] - 0s 774us/step - loss: 0.1233 - accuracy: 0.9517\n",
      "Epoch 37/50\n",
      "118/118 [==============================] - 0s 733us/step - loss: 0.1234 - accuracy: 0.9509\n",
      "Epoch 38/50\n",
      "118/118 [==============================] - 0s 797us/step - loss: 0.1233 - accuracy: 0.9509\n",
      "Epoch 39/50\n",
      "118/118 [==============================] - 0s 741us/step - loss: 0.1232 - accuracy: 0.9523\n",
      "Epoch 40/50\n",
      "118/118 [==============================] - 0s 778us/step - loss: 0.1232 - accuracy: 0.9517\n",
      "Epoch 41/50\n",
      "118/118 [==============================] - 0s 792us/step - loss: 0.1232 - accuracy: 0.9512\n",
      "Epoch 42/50\n",
      "118/118 [==============================] - 0s 851us/step - loss: 0.1232 - accuracy: 0.9517\n",
      "Epoch 43/50\n",
      "118/118 [==============================] - 0s 887us/step - loss: 0.1231 - accuracy: 0.9517\n",
      "Epoch 44/50\n",
      "118/118 [==============================] - 0s 1ms/step - loss: 0.1232 - accuracy: 0.9512\n",
      "Epoch 45/50\n",
      "118/118 [==============================] - 0s 1ms/step - loss: 0.1231 - accuracy: 0.9517\n",
      "Epoch 46/50\n",
      "118/118 [==============================] - 0s 1ms/step - loss: 0.1232 - accuracy: 0.9515\n",
      "Epoch 47/50\n",
      "118/118 [==============================] - 0s 1ms/step - loss: 0.1231 - accuracy: 0.9515\n",
      "Epoch 48/50\n",
      "118/118 [==============================] - 0s 1ms/step - loss: 0.1230 - accuracy: 0.9507\n",
      "Epoch 49/50\n",
      "118/118 [==============================] - 0s 1ms/step - loss: 0.1231 - accuracy: 0.9512\n",
      "Epoch 50/50\n",
      "118/118 [==============================] - 0s 2ms/step - loss: 0.1230 - accuracy: 0.9517\n"
     ]
    }
   ],
   "source": [
    "# Fit the model to the training data\n",
    "fit_model = nn_model.fit(X_train_scaled, y_train, epochs=50)"
   ]
  },
  {
   "cell_type": "code",
   "execution_count": 11,
   "metadata": {},
   "outputs": [
    {
     "name": "stdout",
     "output_type": "stream",
     "text": [
      "40/40 - 1s - loss: 0.1248 - accuracy: 0.9528\n",
      "Loss: 0.12476235628128052, Accuracy: 0.9527999758720398\n"
     ]
    }
   ],
   "source": [
    "# Evaluate the model using the test data\n",
    "model_loss, model_accuracy = nn_model.evaluate(X_test_scaled,y_test,verbose=2)\n",
    "print(f\"Loss: {model_loss}, Accuracy: {model_accuracy}\")"
   ]
  },
  {
   "cell_type": "code",
   "execution_count": 12,
   "metadata": {},
   "outputs": [
    {
     "data": {
      "text/plain": [
       "<AxesSubplot:>"
      ]
     },
     "execution_count": 12,
     "metadata": {},
     "output_type": "execute_result"
    }
   ],
   "source": [
    "# Create a DataFrame containing training history\n",
    "history_df = pd.DataFrame(fit_model.history)\n",
    "# Plot the accuracy\n",
    "history_df.plot(y=\"accuracy\")"
   ]
  }
 ],
 "metadata": {
  "kernelspec": {
   "display_name": "mlenv",
   "language": "python",
   "name": "mlenv"
  },
  "language_info": {
   "codemirror_mode": {
    "name": "ipython",
    "version": 3
   },
   "file_extension": ".py",
   "mimetype": "text/x-python",
   "name": "python",
   "nbconvert_exporter": "python",
   "pygments_lexer": "ipython3",
   "version": "3.7.11"
  }
 },
 "nbformat": 4,
 "nbformat_minor": 2
}
